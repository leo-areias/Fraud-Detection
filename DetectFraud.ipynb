{
  "nbformat": 4,
  "nbformat_minor": 0,
  "metadata": {
    "colab": {
      "provenance": []
    },
    "kernelspec": {
      "name": "python3",
      "display_name": "Python 3"
    },
    "language_info": {
      "name": "python"
    }
  },
  "cells": [
    {
      "cell_type": "markdown",
      "source": [
        "# **Fraud Detection on Transactions**\n",
        "Data base: https://www.kaggle.com/code/llabhishekll/fraud-transaction-detection/input\n",
        "\n",
        "The objective of this analysis, is to develop a model that can be capable of identifing if a transaction is a fraud or not.\n",
        "For this we are going to be doing the following steps:\n",
        "\n",
        "\n",
        "*   Exploratory Analysis;\n",
        "*   Finding the features that have an important imoact to the fraud detecion;\n",
        "*   Presenting the confusion matrix, accuracy, precision and recall scores;\n",
        "*   Develop models based on the KNN, Logistic Regression and Decision Tree algorithms;\n",
        "*   Make ajustments to the models so it can have a improved performance.\n",
        "\n",
        "\n",
        "\n",
        "\n",
        "\n"
      ],
      "metadata": {
        "id": "JG7pFhggcub5"
      }
    },
    {
      "cell_type": "markdown",
      "source": [
        "First things first we are going to be importing the first tools and libraries that we will be using, which are:"
      ],
      "metadata": {
        "id": "8cRpBHozejw6"
      }
    },
    {
      "cell_type": "code",
      "execution_count": null,
      "metadata": {
        "id": "h3fik1ND-GM-"
      },
      "outputs": [],
      "source": [
        "import pandas as pd\n",
        "import numpy as np\n",
        "import seaborn as sns\n",
        "import matplotlib.pyplot as plt"
      ]
    },
    {
      "cell_type": "code",
      "source": [
        "from google.colab import drive\n",
        "drive.mount('/content/drive')"
      ],
      "metadata": {
        "colab": {
          "base_uri": "https://localhost:8080/"
        },
        "id": "NwbGYpcmyFpg",
        "outputId": "bdb67f8a-d1da-424b-ac37-a8c9c01ebbd1"
      },
      "execution_count": null,
      "outputs": [
        {
          "output_type": "stream",
          "name": "stdout",
          "text": [
            "Mounted at /content/drive\n"
          ]
        }
      ]
    },
    {
      "cell_type": "markdown",
      "source": [
        "Now we are going to import our database and saving it as **df**, short for DataFrame. And we will be seeing the first columns and rows with the **df.head()** method."
      ],
      "metadata": {
        "id": "4iz4SdvPe0um"
      }
    },
    {
      "cell_type": "code",
      "source": [
        "df = pd.read_csv('/content/drive/MyDrive/Colab Notebooks/Detect Fraud/PS_20174392719_1491204439457_log.csv')\n",
        "df.head()"
      ],
      "metadata": {
        "colab": {
          "base_uri": "https://localhost:8080/",
          "height": 206
        },
        "id": "Z47ZsOcME8gE",
        "outputId": "e8c41474-0696-4601-8851-3cd660a4ae00"
      },
      "execution_count": null,
      "outputs": [
        {
          "output_type": "execute_result",
          "data": {
            "text/plain": [
              "   step      type    amount     nameOrig  oldbalanceOrg  newbalanceOrig  \\\n",
              "0     1   PAYMENT   9839.64  C1231006815       170136.0       160296.36   \n",
              "1     1   PAYMENT   1864.28  C1666544295        21249.0        19384.72   \n",
              "2     1  TRANSFER    181.00  C1305486145          181.0            0.00   \n",
              "3     1  CASH_OUT    181.00   C840083671          181.0            0.00   \n",
              "4     1   PAYMENT  11668.14  C2048537720        41554.0        29885.86   \n",
              "\n",
              "      nameDest  oldbalanceDest  newbalanceDest  isFraud  isFlaggedFraud  \n",
              "0  M1979787155             0.0             0.0        0               0  \n",
              "1  M2044282225             0.0             0.0        0               0  \n",
              "2   C553264065             0.0             0.0        1               0  \n",
              "3    C38997010         21182.0             0.0        1               0  \n",
              "4  M1230701703             0.0             0.0        0               0  "
            ],
            "text/html": [
              "\n",
              "  <div id=\"df-b1456805-c02d-430b-9726-f702b12d4c42\" class=\"colab-df-container\">\n",
              "    <div>\n",
              "<style scoped>\n",
              "    .dataframe tbody tr th:only-of-type {\n",
              "        vertical-align: middle;\n",
              "    }\n",
              "\n",
              "    .dataframe tbody tr th {\n",
              "        vertical-align: top;\n",
              "    }\n",
              "\n",
              "    .dataframe thead th {\n",
              "        text-align: right;\n",
              "    }\n",
              "</style>\n",
              "<table border=\"1\" class=\"dataframe\">\n",
              "  <thead>\n",
              "    <tr style=\"text-align: right;\">\n",
              "      <th></th>\n",
              "      <th>step</th>\n",
              "      <th>type</th>\n",
              "      <th>amount</th>\n",
              "      <th>nameOrig</th>\n",
              "      <th>oldbalanceOrg</th>\n",
              "      <th>newbalanceOrig</th>\n",
              "      <th>nameDest</th>\n",
              "      <th>oldbalanceDest</th>\n",
              "      <th>newbalanceDest</th>\n",
              "      <th>isFraud</th>\n",
              "      <th>isFlaggedFraud</th>\n",
              "    </tr>\n",
              "  </thead>\n",
              "  <tbody>\n",
              "    <tr>\n",
              "      <th>0</th>\n",
              "      <td>1</td>\n",
              "      <td>PAYMENT</td>\n",
              "      <td>9839.64</td>\n",
              "      <td>C1231006815</td>\n",
              "      <td>170136.0</td>\n",
              "      <td>160296.36</td>\n",
              "      <td>M1979787155</td>\n",
              "      <td>0.0</td>\n",
              "      <td>0.0</td>\n",
              "      <td>0</td>\n",
              "      <td>0</td>\n",
              "    </tr>\n",
              "    <tr>\n",
              "      <th>1</th>\n",
              "      <td>1</td>\n",
              "      <td>PAYMENT</td>\n",
              "      <td>1864.28</td>\n",
              "      <td>C1666544295</td>\n",
              "      <td>21249.0</td>\n",
              "      <td>19384.72</td>\n",
              "      <td>M2044282225</td>\n",
              "      <td>0.0</td>\n",
              "      <td>0.0</td>\n",
              "      <td>0</td>\n",
              "      <td>0</td>\n",
              "    </tr>\n",
              "    <tr>\n",
              "      <th>2</th>\n",
              "      <td>1</td>\n",
              "      <td>TRANSFER</td>\n",
              "      <td>181.00</td>\n",
              "      <td>C1305486145</td>\n",
              "      <td>181.0</td>\n",
              "      <td>0.00</td>\n",
              "      <td>C553264065</td>\n",
              "      <td>0.0</td>\n",
              "      <td>0.0</td>\n",
              "      <td>1</td>\n",
              "      <td>0</td>\n",
              "    </tr>\n",
              "    <tr>\n",
              "      <th>3</th>\n",
              "      <td>1</td>\n",
              "      <td>CASH_OUT</td>\n",
              "      <td>181.00</td>\n",
              "      <td>C840083671</td>\n",
              "      <td>181.0</td>\n",
              "      <td>0.00</td>\n",
              "      <td>C38997010</td>\n",
              "      <td>21182.0</td>\n",
              "      <td>0.0</td>\n",
              "      <td>1</td>\n",
              "      <td>0</td>\n",
              "    </tr>\n",
              "    <tr>\n",
              "      <th>4</th>\n",
              "      <td>1</td>\n",
              "      <td>PAYMENT</td>\n",
              "      <td>11668.14</td>\n",
              "      <td>C2048537720</td>\n",
              "      <td>41554.0</td>\n",
              "      <td>29885.86</td>\n",
              "      <td>M1230701703</td>\n",
              "      <td>0.0</td>\n",
              "      <td>0.0</td>\n",
              "      <td>0</td>\n",
              "      <td>0</td>\n",
              "    </tr>\n",
              "  </tbody>\n",
              "</table>\n",
              "</div>\n",
              "    <div class=\"colab-df-buttons\">\n",
              "\n",
              "  <div class=\"colab-df-container\">\n",
              "    <button class=\"colab-df-convert\" onclick=\"convertToInteractive('df-b1456805-c02d-430b-9726-f702b12d4c42')\"\n",
              "            title=\"Convert this dataframe to an interactive table.\"\n",
              "            style=\"display:none;\">\n",
              "\n",
              "  <svg xmlns=\"http://www.w3.org/2000/svg\" height=\"24px\" viewBox=\"0 -960 960 960\">\n",
              "    <path d=\"M120-120v-720h720v720H120Zm60-500h600v-160H180v160Zm220 220h160v-160H400v160Zm0 220h160v-160H400v160ZM180-400h160v-160H180v160Zm440 0h160v-160H620v160ZM180-180h160v-160H180v160Zm440 0h160v-160H620v160Z\"/>\n",
              "  </svg>\n",
              "    </button>\n",
              "\n",
              "  <style>\n",
              "    .colab-df-container {\n",
              "      display:flex;\n",
              "      gap: 12px;\n",
              "    }\n",
              "\n",
              "    .colab-df-convert {\n",
              "      background-color: #E8F0FE;\n",
              "      border: none;\n",
              "      border-radius: 50%;\n",
              "      cursor: pointer;\n",
              "      display: none;\n",
              "      fill: #1967D2;\n",
              "      height: 32px;\n",
              "      padding: 0 0 0 0;\n",
              "      width: 32px;\n",
              "    }\n",
              "\n",
              "    .colab-df-convert:hover {\n",
              "      background-color: #E2EBFA;\n",
              "      box-shadow: 0px 1px 2px rgba(60, 64, 67, 0.3), 0px 1px 3px 1px rgba(60, 64, 67, 0.15);\n",
              "      fill: #174EA6;\n",
              "    }\n",
              "\n",
              "    .colab-df-buttons div {\n",
              "      margin-bottom: 4px;\n",
              "    }\n",
              "\n",
              "    [theme=dark] .colab-df-convert {\n",
              "      background-color: #3B4455;\n",
              "      fill: #D2E3FC;\n",
              "    }\n",
              "\n",
              "    [theme=dark] .colab-df-convert:hover {\n",
              "      background-color: #434B5C;\n",
              "      box-shadow: 0px 1px 3px 1px rgba(0, 0, 0, 0.15);\n",
              "      filter: drop-shadow(0px 1px 2px rgba(0, 0, 0, 0.3));\n",
              "      fill: #FFFFFF;\n",
              "    }\n",
              "  </style>\n",
              "\n",
              "    <script>\n",
              "      const buttonEl =\n",
              "        document.querySelector('#df-b1456805-c02d-430b-9726-f702b12d4c42 button.colab-df-convert');\n",
              "      buttonEl.style.display =\n",
              "        google.colab.kernel.accessAllowed ? 'block' : 'none';\n",
              "\n",
              "      async function convertToInteractive(key) {\n",
              "        const element = document.querySelector('#df-b1456805-c02d-430b-9726-f702b12d4c42');\n",
              "        const dataTable =\n",
              "          await google.colab.kernel.invokeFunction('convertToInteractive',\n",
              "                                                    [key], {});\n",
              "        if (!dataTable) return;\n",
              "\n",
              "        const docLinkHtml = 'Like what you see? Visit the ' +\n",
              "          '<a target=\"_blank\" href=https://colab.research.google.com/notebooks/data_table.ipynb>data table notebook</a>'\n",
              "          + ' to learn more about interactive tables.';\n",
              "        element.innerHTML = '';\n",
              "        dataTable['output_type'] = 'display_data';\n",
              "        await google.colab.output.renderOutput(dataTable, element);\n",
              "        const docLink = document.createElement('div');\n",
              "        docLink.innerHTML = docLinkHtml;\n",
              "        element.appendChild(docLink);\n",
              "      }\n",
              "    </script>\n",
              "  </div>\n",
              "\n",
              "\n",
              "<div id=\"df-190a930a-8b8f-44fb-be23-b899d266807a\">\n",
              "  <button class=\"colab-df-quickchart\" onclick=\"quickchart('df-190a930a-8b8f-44fb-be23-b899d266807a')\"\n",
              "            title=\"Suggest charts\"\n",
              "            style=\"display:none;\">\n",
              "\n",
              "<svg xmlns=\"http://www.w3.org/2000/svg\" height=\"24px\"viewBox=\"0 0 24 24\"\n",
              "     width=\"24px\">\n",
              "    <g>\n",
              "        <path d=\"M19 3H5c-1.1 0-2 .9-2 2v14c0 1.1.9 2 2 2h14c1.1 0 2-.9 2-2V5c0-1.1-.9-2-2-2zM9 17H7v-7h2v7zm4 0h-2V7h2v10zm4 0h-2v-4h2v4z\"/>\n",
              "    </g>\n",
              "</svg>\n",
              "  </button>\n",
              "\n",
              "<style>\n",
              "  .colab-df-quickchart {\n",
              "      --bg-color: #E8F0FE;\n",
              "      --fill-color: #1967D2;\n",
              "      --hover-bg-color: #E2EBFA;\n",
              "      --hover-fill-color: #174EA6;\n",
              "      --disabled-fill-color: #AAA;\n",
              "      --disabled-bg-color: #DDD;\n",
              "  }\n",
              "\n",
              "  [theme=dark] .colab-df-quickchart {\n",
              "      --bg-color: #3B4455;\n",
              "      --fill-color: #D2E3FC;\n",
              "      --hover-bg-color: #434B5C;\n",
              "      --hover-fill-color: #FFFFFF;\n",
              "      --disabled-bg-color: #3B4455;\n",
              "      --disabled-fill-color: #666;\n",
              "  }\n",
              "\n",
              "  .colab-df-quickchart {\n",
              "    background-color: var(--bg-color);\n",
              "    border: none;\n",
              "    border-radius: 50%;\n",
              "    cursor: pointer;\n",
              "    display: none;\n",
              "    fill: var(--fill-color);\n",
              "    height: 32px;\n",
              "    padding: 0;\n",
              "    width: 32px;\n",
              "  }\n",
              "\n",
              "  .colab-df-quickchart:hover {\n",
              "    background-color: var(--hover-bg-color);\n",
              "    box-shadow: 0 1px 2px rgba(60, 64, 67, 0.3), 0 1px 3px 1px rgba(60, 64, 67, 0.15);\n",
              "    fill: var(--button-hover-fill-color);\n",
              "  }\n",
              "\n",
              "  .colab-df-quickchart-complete:disabled,\n",
              "  .colab-df-quickchart-complete:disabled:hover {\n",
              "    background-color: var(--disabled-bg-color);\n",
              "    fill: var(--disabled-fill-color);\n",
              "    box-shadow: none;\n",
              "  }\n",
              "\n",
              "  .colab-df-spinner {\n",
              "    border: 2px solid var(--fill-color);\n",
              "    border-color: transparent;\n",
              "    border-bottom-color: var(--fill-color);\n",
              "    animation:\n",
              "      spin 1s steps(1) infinite;\n",
              "  }\n",
              "\n",
              "  @keyframes spin {\n",
              "    0% {\n",
              "      border-color: transparent;\n",
              "      border-bottom-color: var(--fill-color);\n",
              "      border-left-color: var(--fill-color);\n",
              "    }\n",
              "    20% {\n",
              "      border-color: transparent;\n",
              "      border-left-color: var(--fill-color);\n",
              "      border-top-color: var(--fill-color);\n",
              "    }\n",
              "    30% {\n",
              "      border-color: transparent;\n",
              "      border-left-color: var(--fill-color);\n",
              "      border-top-color: var(--fill-color);\n",
              "      border-right-color: var(--fill-color);\n",
              "    }\n",
              "    40% {\n",
              "      border-color: transparent;\n",
              "      border-right-color: var(--fill-color);\n",
              "      border-top-color: var(--fill-color);\n",
              "    }\n",
              "    60% {\n",
              "      border-color: transparent;\n",
              "      border-right-color: var(--fill-color);\n",
              "    }\n",
              "    80% {\n",
              "      border-color: transparent;\n",
              "      border-right-color: var(--fill-color);\n",
              "      border-bottom-color: var(--fill-color);\n",
              "    }\n",
              "    90% {\n",
              "      border-color: transparent;\n",
              "      border-bottom-color: var(--fill-color);\n",
              "    }\n",
              "  }\n",
              "</style>\n",
              "\n",
              "  <script>\n",
              "    async function quickchart(key) {\n",
              "      const quickchartButtonEl =\n",
              "        document.querySelector('#' + key + ' button');\n",
              "      quickchartButtonEl.disabled = true;  // To prevent multiple clicks.\n",
              "      quickchartButtonEl.classList.add('colab-df-spinner');\n",
              "      try {\n",
              "        const charts = await google.colab.kernel.invokeFunction(\n",
              "            'suggestCharts', [key], {});\n",
              "      } catch (error) {\n",
              "        console.error('Error during call to suggestCharts:', error);\n",
              "      }\n",
              "      quickchartButtonEl.classList.remove('colab-df-spinner');\n",
              "      quickchartButtonEl.classList.add('colab-df-quickchart-complete');\n",
              "    }\n",
              "    (() => {\n",
              "      let quickchartButtonEl =\n",
              "        document.querySelector('#df-190a930a-8b8f-44fb-be23-b899d266807a button');\n",
              "      quickchartButtonEl.style.display =\n",
              "        google.colab.kernel.accessAllowed ? 'block' : 'none';\n",
              "    })();\n",
              "  </script>\n",
              "</div>\n",
              "    </div>\n",
              "  </div>\n"
            ],
            "application/vnd.google.colaboratory.intrinsic+json": {
              "type": "dataframe",
              "variable_name": "df"
            }
          },
          "metadata": {},
          "execution_count": 3
        }
      ]
    },
    {
      "cell_type": "code",
      "source": [
        "df.describe()"
      ],
      "metadata": {
        "colab": {
          "base_uri": "https://localhost:8080/",
          "height": 300
        },
        "id": "coOpkTYLG8_-",
        "outputId": "63770ae0-f27d-42eb-a8bf-d11c6cc5bab8"
      },
      "execution_count": null,
      "outputs": [
        {
          "output_type": "execute_result",
          "data": {
            "text/plain": [
              "               step        amount  oldbalanceOrg  newbalanceOrig  \\\n",
              "count  6.362620e+06  6.362620e+06   6.362620e+06    6.362620e+06   \n",
              "mean   2.433972e+02  1.798619e+05   8.338831e+05    8.551137e+05   \n",
              "std    1.423320e+02  6.038582e+05   2.888243e+06    2.924049e+06   \n",
              "min    1.000000e+00  0.000000e+00   0.000000e+00    0.000000e+00   \n",
              "25%    1.560000e+02  1.338957e+04   0.000000e+00    0.000000e+00   \n",
              "50%    2.390000e+02  7.487194e+04   1.420800e+04    0.000000e+00   \n",
              "75%    3.350000e+02  2.087215e+05   1.073152e+05    1.442584e+05   \n",
              "max    7.430000e+02  9.244552e+07   5.958504e+07    4.958504e+07   \n",
              "\n",
              "       oldbalanceDest  newbalanceDest       isFraud  isFlaggedFraud  \n",
              "count    6.362620e+06    6.362620e+06  6.362620e+06    6.362620e+06  \n",
              "mean     1.100702e+06    1.224996e+06  1.290820e-03    2.514687e-06  \n",
              "std      3.399180e+06    3.674129e+06  3.590480e-02    1.585775e-03  \n",
              "min      0.000000e+00    0.000000e+00  0.000000e+00    0.000000e+00  \n",
              "25%      0.000000e+00    0.000000e+00  0.000000e+00    0.000000e+00  \n",
              "50%      1.327057e+05    2.146614e+05  0.000000e+00    0.000000e+00  \n",
              "75%      9.430367e+05    1.111909e+06  0.000000e+00    0.000000e+00  \n",
              "max      3.560159e+08    3.561793e+08  1.000000e+00    1.000000e+00  "
            ],
            "text/html": [
              "\n",
              "  <div id=\"df-cb9fb74d-78dc-4ab4-a8d6-3808a676cda6\" class=\"colab-df-container\">\n",
              "    <div>\n",
              "<style scoped>\n",
              "    .dataframe tbody tr th:only-of-type {\n",
              "        vertical-align: middle;\n",
              "    }\n",
              "\n",
              "    .dataframe tbody tr th {\n",
              "        vertical-align: top;\n",
              "    }\n",
              "\n",
              "    .dataframe thead th {\n",
              "        text-align: right;\n",
              "    }\n",
              "</style>\n",
              "<table border=\"1\" class=\"dataframe\">\n",
              "  <thead>\n",
              "    <tr style=\"text-align: right;\">\n",
              "      <th></th>\n",
              "      <th>step</th>\n",
              "      <th>amount</th>\n",
              "      <th>oldbalanceOrg</th>\n",
              "      <th>newbalanceOrig</th>\n",
              "      <th>oldbalanceDest</th>\n",
              "      <th>newbalanceDest</th>\n",
              "      <th>isFraud</th>\n",
              "      <th>isFlaggedFraud</th>\n",
              "    </tr>\n",
              "  </thead>\n",
              "  <tbody>\n",
              "    <tr>\n",
              "      <th>count</th>\n",
              "      <td>6.362620e+06</td>\n",
              "      <td>6.362620e+06</td>\n",
              "      <td>6.362620e+06</td>\n",
              "      <td>6.362620e+06</td>\n",
              "      <td>6.362620e+06</td>\n",
              "      <td>6.362620e+06</td>\n",
              "      <td>6.362620e+06</td>\n",
              "      <td>6.362620e+06</td>\n",
              "    </tr>\n",
              "    <tr>\n",
              "      <th>mean</th>\n",
              "      <td>2.433972e+02</td>\n",
              "      <td>1.798619e+05</td>\n",
              "      <td>8.338831e+05</td>\n",
              "      <td>8.551137e+05</td>\n",
              "      <td>1.100702e+06</td>\n",
              "      <td>1.224996e+06</td>\n",
              "      <td>1.290820e-03</td>\n",
              "      <td>2.514687e-06</td>\n",
              "    </tr>\n",
              "    <tr>\n",
              "      <th>std</th>\n",
              "      <td>1.423320e+02</td>\n",
              "      <td>6.038582e+05</td>\n",
              "      <td>2.888243e+06</td>\n",
              "      <td>2.924049e+06</td>\n",
              "      <td>3.399180e+06</td>\n",
              "      <td>3.674129e+06</td>\n",
              "      <td>3.590480e-02</td>\n",
              "      <td>1.585775e-03</td>\n",
              "    </tr>\n",
              "    <tr>\n",
              "      <th>min</th>\n",
              "      <td>1.000000e+00</td>\n",
              "      <td>0.000000e+00</td>\n",
              "      <td>0.000000e+00</td>\n",
              "      <td>0.000000e+00</td>\n",
              "      <td>0.000000e+00</td>\n",
              "      <td>0.000000e+00</td>\n",
              "      <td>0.000000e+00</td>\n",
              "      <td>0.000000e+00</td>\n",
              "    </tr>\n",
              "    <tr>\n",
              "      <th>25%</th>\n",
              "      <td>1.560000e+02</td>\n",
              "      <td>1.338957e+04</td>\n",
              "      <td>0.000000e+00</td>\n",
              "      <td>0.000000e+00</td>\n",
              "      <td>0.000000e+00</td>\n",
              "      <td>0.000000e+00</td>\n",
              "      <td>0.000000e+00</td>\n",
              "      <td>0.000000e+00</td>\n",
              "    </tr>\n",
              "    <tr>\n",
              "      <th>50%</th>\n",
              "      <td>2.390000e+02</td>\n",
              "      <td>7.487194e+04</td>\n",
              "      <td>1.420800e+04</td>\n",
              "      <td>0.000000e+00</td>\n",
              "      <td>1.327057e+05</td>\n",
              "      <td>2.146614e+05</td>\n",
              "      <td>0.000000e+00</td>\n",
              "      <td>0.000000e+00</td>\n",
              "    </tr>\n",
              "    <tr>\n",
              "      <th>75%</th>\n",
              "      <td>3.350000e+02</td>\n",
              "      <td>2.087215e+05</td>\n",
              "      <td>1.073152e+05</td>\n",
              "      <td>1.442584e+05</td>\n",
              "      <td>9.430367e+05</td>\n",
              "      <td>1.111909e+06</td>\n",
              "      <td>0.000000e+00</td>\n",
              "      <td>0.000000e+00</td>\n",
              "    </tr>\n",
              "    <tr>\n",
              "      <th>max</th>\n",
              "      <td>7.430000e+02</td>\n",
              "      <td>9.244552e+07</td>\n",
              "      <td>5.958504e+07</td>\n",
              "      <td>4.958504e+07</td>\n",
              "      <td>3.560159e+08</td>\n",
              "      <td>3.561793e+08</td>\n",
              "      <td>1.000000e+00</td>\n",
              "      <td>1.000000e+00</td>\n",
              "    </tr>\n",
              "  </tbody>\n",
              "</table>\n",
              "</div>\n",
              "    <div class=\"colab-df-buttons\">\n",
              "\n",
              "  <div class=\"colab-df-container\">\n",
              "    <button class=\"colab-df-convert\" onclick=\"convertToInteractive('df-cb9fb74d-78dc-4ab4-a8d6-3808a676cda6')\"\n",
              "            title=\"Convert this dataframe to an interactive table.\"\n",
              "            style=\"display:none;\">\n",
              "\n",
              "  <svg xmlns=\"http://www.w3.org/2000/svg\" height=\"24px\" viewBox=\"0 -960 960 960\">\n",
              "    <path d=\"M120-120v-720h720v720H120Zm60-500h600v-160H180v160Zm220 220h160v-160H400v160Zm0 220h160v-160H400v160ZM180-400h160v-160H180v160Zm440 0h160v-160H620v160ZM180-180h160v-160H180v160Zm440 0h160v-160H620v160Z\"/>\n",
              "  </svg>\n",
              "    </button>\n",
              "\n",
              "  <style>\n",
              "    .colab-df-container {\n",
              "      display:flex;\n",
              "      gap: 12px;\n",
              "    }\n",
              "\n",
              "    .colab-df-convert {\n",
              "      background-color: #E8F0FE;\n",
              "      border: none;\n",
              "      border-radius: 50%;\n",
              "      cursor: pointer;\n",
              "      display: none;\n",
              "      fill: #1967D2;\n",
              "      height: 32px;\n",
              "      padding: 0 0 0 0;\n",
              "      width: 32px;\n",
              "    }\n",
              "\n",
              "    .colab-df-convert:hover {\n",
              "      background-color: #E2EBFA;\n",
              "      box-shadow: 0px 1px 2px rgba(60, 64, 67, 0.3), 0px 1px 3px 1px rgba(60, 64, 67, 0.15);\n",
              "      fill: #174EA6;\n",
              "    }\n",
              "\n",
              "    .colab-df-buttons div {\n",
              "      margin-bottom: 4px;\n",
              "    }\n",
              "\n",
              "    [theme=dark] .colab-df-convert {\n",
              "      background-color: #3B4455;\n",
              "      fill: #D2E3FC;\n",
              "    }\n",
              "\n",
              "    [theme=dark] .colab-df-convert:hover {\n",
              "      background-color: #434B5C;\n",
              "      box-shadow: 0px 1px 3px 1px rgba(0, 0, 0, 0.15);\n",
              "      filter: drop-shadow(0px 1px 2px rgba(0, 0, 0, 0.3));\n",
              "      fill: #FFFFFF;\n",
              "    }\n",
              "  </style>\n",
              "\n",
              "    <script>\n",
              "      const buttonEl =\n",
              "        document.querySelector('#df-cb9fb74d-78dc-4ab4-a8d6-3808a676cda6 button.colab-df-convert');\n",
              "      buttonEl.style.display =\n",
              "        google.colab.kernel.accessAllowed ? 'block' : 'none';\n",
              "\n",
              "      async function convertToInteractive(key) {\n",
              "        const element = document.querySelector('#df-cb9fb74d-78dc-4ab4-a8d6-3808a676cda6');\n",
              "        const dataTable =\n",
              "          await google.colab.kernel.invokeFunction('convertToInteractive',\n",
              "                                                    [key], {});\n",
              "        if (!dataTable) return;\n",
              "\n",
              "        const docLinkHtml = 'Like what you see? Visit the ' +\n",
              "          '<a target=\"_blank\" href=https://colab.research.google.com/notebooks/data_table.ipynb>data table notebook</a>'\n",
              "          + ' to learn more about interactive tables.';\n",
              "        element.innerHTML = '';\n",
              "        dataTable['output_type'] = 'display_data';\n",
              "        await google.colab.output.renderOutput(dataTable, element);\n",
              "        const docLink = document.createElement('div');\n",
              "        docLink.innerHTML = docLinkHtml;\n",
              "        element.appendChild(docLink);\n",
              "      }\n",
              "    </script>\n",
              "  </div>\n",
              "\n",
              "\n",
              "<div id=\"df-a18d84f7-6f6b-4dd1-9fb5-ce3095d63661\">\n",
              "  <button class=\"colab-df-quickchart\" onclick=\"quickchart('df-a18d84f7-6f6b-4dd1-9fb5-ce3095d63661')\"\n",
              "            title=\"Suggest charts\"\n",
              "            style=\"display:none;\">\n",
              "\n",
              "<svg xmlns=\"http://www.w3.org/2000/svg\" height=\"24px\"viewBox=\"0 0 24 24\"\n",
              "     width=\"24px\">\n",
              "    <g>\n",
              "        <path d=\"M19 3H5c-1.1 0-2 .9-2 2v14c0 1.1.9 2 2 2h14c1.1 0 2-.9 2-2V5c0-1.1-.9-2-2-2zM9 17H7v-7h2v7zm4 0h-2V7h2v10zm4 0h-2v-4h2v4z\"/>\n",
              "    </g>\n",
              "</svg>\n",
              "  </button>\n",
              "\n",
              "<style>\n",
              "  .colab-df-quickchart {\n",
              "      --bg-color: #E8F0FE;\n",
              "      --fill-color: #1967D2;\n",
              "      --hover-bg-color: #E2EBFA;\n",
              "      --hover-fill-color: #174EA6;\n",
              "      --disabled-fill-color: #AAA;\n",
              "      --disabled-bg-color: #DDD;\n",
              "  }\n",
              "\n",
              "  [theme=dark] .colab-df-quickchart {\n",
              "      --bg-color: #3B4455;\n",
              "      --fill-color: #D2E3FC;\n",
              "      --hover-bg-color: #434B5C;\n",
              "      --hover-fill-color: #FFFFFF;\n",
              "      --disabled-bg-color: #3B4455;\n",
              "      --disabled-fill-color: #666;\n",
              "  }\n",
              "\n",
              "  .colab-df-quickchart {\n",
              "    background-color: var(--bg-color);\n",
              "    border: none;\n",
              "    border-radius: 50%;\n",
              "    cursor: pointer;\n",
              "    display: none;\n",
              "    fill: var(--fill-color);\n",
              "    height: 32px;\n",
              "    padding: 0;\n",
              "    width: 32px;\n",
              "  }\n",
              "\n",
              "  .colab-df-quickchart:hover {\n",
              "    background-color: var(--hover-bg-color);\n",
              "    box-shadow: 0 1px 2px rgba(60, 64, 67, 0.3), 0 1px 3px 1px rgba(60, 64, 67, 0.15);\n",
              "    fill: var(--button-hover-fill-color);\n",
              "  }\n",
              "\n",
              "  .colab-df-quickchart-complete:disabled,\n",
              "  .colab-df-quickchart-complete:disabled:hover {\n",
              "    background-color: var(--disabled-bg-color);\n",
              "    fill: var(--disabled-fill-color);\n",
              "    box-shadow: none;\n",
              "  }\n",
              "\n",
              "  .colab-df-spinner {\n",
              "    border: 2px solid var(--fill-color);\n",
              "    border-color: transparent;\n",
              "    border-bottom-color: var(--fill-color);\n",
              "    animation:\n",
              "      spin 1s steps(1) infinite;\n",
              "  }\n",
              "\n",
              "  @keyframes spin {\n",
              "    0% {\n",
              "      border-color: transparent;\n",
              "      border-bottom-color: var(--fill-color);\n",
              "      border-left-color: var(--fill-color);\n",
              "    }\n",
              "    20% {\n",
              "      border-color: transparent;\n",
              "      border-left-color: var(--fill-color);\n",
              "      border-top-color: var(--fill-color);\n",
              "    }\n",
              "    30% {\n",
              "      border-color: transparent;\n",
              "      border-left-color: var(--fill-color);\n",
              "      border-top-color: var(--fill-color);\n",
              "      border-right-color: var(--fill-color);\n",
              "    }\n",
              "    40% {\n",
              "      border-color: transparent;\n",
              "      border-right-color: var(--fill-color);\n",
              "      border-top-color: var(--fill-color);\n",
              "    }\n",
              "    60% {\n",
              "      border-color: transparent;\n",
              "      border-right-color: var(--fill-color);\n",
              "    }\n",
              "    80% {\n",
              "      border-color: transparent;\n",
              "      border-right-color: var(--fill-color);\n",
              "      border-bottom-color: var(--fill-color);\n",
              "    }\n",
              "    90% {\n",
              "      border-color: transparent;\n",
              "      border-bottom-color: var(--fill-color);\n",
              "    }\n",
              "  }\n",
              "</style>\n",
              "\n",
              "  <script>\n",
              "    async function quickchart(key) {\n",
              "      const quickchartButtonEl =\n",
              "        document.querySelector('#' + key + ' button');\n",
              "      quickchartButtonEl.disabled = true;  // To prevent multiple clicks.\n",
              "      quickchartButtonEl.classList.add('colab-df-spinner');\n",
              "      try {\n",
              "        const charts = await google.colab.kernel.invokeFunction(\n",
              "            'suggestCharts', [key], {});\n",
              "      } catch (error) {\n",
              "        console.error('Error during call to suggestCharts:', error);\n",
              "      }\n",
              "      quickchartButtonEl.classList.remove('colab-df-spinner');\n",
              "      quickchartButtonEl.classList.add('colab-df-quickchart-complete');\n",
              "    }\n",
              "    (() => {\n",
              "      let quickchartButtonEl =\n",
              "        document.querySelector('#df-a18d84f7-6f6b-4dd1-9fb5-ce3095d63661 button');\n",
              "      quickchartButtonEl.style.display =\n",
              "        google.colab.kernel.accessAllowed ? 'block' : 'none';\n",
              "    })();\n",
              "  </script>\n",
              "</div>\n",
              "    </div>\n",
              "  </div>\n"
            ],
            "application/vnd.google.colaboratory.intrinsic+json": {
              "type": "dataframe",
              "summary": "{\n  \"name\": \"df\",\n  \"rows\": 8,\n  \"fields\": [\n    {\n      \"column\": \"step\",\n      \"properties\": {\n        \"dtype\": \"number\",\n        \"std\": 2249431.9540618425,\n        \"min\": 1.0,\n        \"max\": 6362620.0,\n        \"num_unique_values\": 8,\n        \"samples\": [\n          243.39724563151657,\n          239.0,\n          6362620.0\n        ],\n        \"semantic_type\": \"\",\n        \"description\": \"\"\n      }\n    },\n    {\n      \"column\": \"amount\",\n      \"properties\": {\n        \"dtype\": \"number\",\n        \"std\": 32381388.583731953,\n        \"min\": 0.0,\n        \"max\": 92445516.64,\n        \"num_unique_values\": 8,\n        \"samples\": [\n          179861.90354913071,\n          74871.94,\n          6362620.0\n        ],\n        \"semantic_type\": \"\",\n        \"description\": \"\"\n      }\n    },\n    {\n      \"column\": \"oldbalanceOrg\",\n      \"properties\": {\n        \"dtype\": \"number\",\n        \"std\": 20671082.759776674,\n        \"min\": 0.0,\n        \"max\": 59585040.37,\n        \"num_unique_values\": 7,\n        \"samples\": [\n          6362620.0,\n          833883.1040744866,\n          107315.175\n        ],\n        \"semantic_type\": \"\",\n        \"description\": \"\"\n      }\n    },\n    {\n      \"column\": \"newbalanceOrig\",\n      \"properties\": {\n        \"dtype\": \"number\",\n        \"std\": 17156393.891380887,\n        \"min\": 0.0,\n        \"max\": 49585040.37,\n        \"num_unique_values\": 6,\n        \"samples\": [\n          6362620.0,\n          855113.6685785869,\n          49585040.37\n        ],\n        \"semantic_type\": \"\",\n        \"description\": \"\"\n      }\n    },\n    {\n      \"column\": \"oldbalanceDest\",\n      \"properties\": {\n        \"dtype\": \"number\",\n        \"std\": 125286921.42233709,\n        \"min\": 0.0,\n        \"max\": 356015889.35,\n        \"num_unique_values\": 7,\n        \"samples\": [\n          6362620.0,\n          1100701.6665196486,\n          943036.7075\n        ],\n        \"semantic_type\": \"\",\n        \"description\": \"\"\n      }\n    },\n    {\n      \"column\": \"newbalanceDest\",\n      \"properties\": {\n        \"dtype\": \"number\",\n        \"std\": 125312039.97617194,\n        \"min\": 0.0,\n        \"max\": 356179278.92,\n        \"num_unique_values\": 7,\n        \"samples\": [\n          6362620.0,\n          1224996.3982019299,\n          1111909.25\n        ],\n        \"semantic_type\": \"\",\n        \"description\": \"\"\n      }\n    },\n    {\n      \"column\": \"isFraud\",\n      \"properties\": {\n        \"dtype\": \"number\",\n        \"std\": 2249525.821670313,\n        \"min\": 0.0,\n        \"max\": 6362620.0,\n        \"num_unique_values\": 5,\n        \"samples\": [\n          0.001290820448180152,\n          1.0,\n          0.03590479680160413\n        ],\n        \"semantic_type\": \"\",\n        \"description\": \"\"\n      }\n    },\n    {\n      \"column\": \"isFlaggedFraud\",\n      \"properties\": {\n        \"dtype\": \"number\",\n        \"std\": 2249525.8234687545,\n        \"min\": 0.0,\n        \"max\": 6362620.0,\n        \"num_unique_values\": 5,\n        \"samples\": [\n          2.51468734577894e-06,\n          1.0,\n          0.001585774705736547\n        ],\n        \"semantic_type\": \"\",\n        \"description\": \"\"\n      }\n    }\n  ]\n}"
            }
          },
          "metadata": {},
          "execution_count": 4
        }
      ]
    },
    {
      "cell_type": "code",
      "source": [
        "df.columns"
      ],
      "metadata": {
        "colab": {
          "base_uri": "https://localhost:8080/"
        },
        "id": "NXWY8GrRJapF",
        "outputId": "e91771c2-473c-425d-b585-24a7cad511bc"
      },
      "execution_count": null,
      "outputs": [
        {
          "output_type": "execute_result",
          "data": {
            "text/plain": [
              "Index(['step', 'type', 'amount', 'nameOrig', 'oldbalanceOrg', 'newbalanceOrig',\n",
              "       'nameDest', 'oldbalanceDest', 'newbalanceDest', 'isFraud',\n",
              "       'isFlaggedFraud'],\n",
              "      dtype='object')"
            ]
          },
          "metadata": {},
          "execution_count": 5
        }
      ]
    },
    {
      "cell_type": "code",
      "source": [
        "df.info()"
      ],
      "metadata": {
        "colab": {
          "base_uri": "https://localhost:8080/"
        },
        "id": "KDenb-flJsV3",
        "outputId": "a1a131fd-2fd1-4315-f10c-4eda516b4212"
      },
      "execution_count": null,
      "outputs": [
        {
          "output_type": "stream",
          "name": "stdout",
          "text": [
            "<class 'pandas.core.frame.DataFrame'>\n",
            "RangeIndex: 6362620 entries, 0 to 6362619\n",
            "Data columns (total 11 columns):\n",
            " #   Column          Dtype  \n",
            "---  ------          -----  \n",
            " 0   step            int64  \n",
            " 1   type            object \n",
            " 2   amount          float64\n",
            " 3   nameOrig        object \n",
            " 4   oldbalanceOrg   float64\n",
            " 5   newbalanceOrig  float64\n",
            " 6   nameDest        object \n",
            " 7   oldbalanceDest  float64\n",
            " 8   newbalanceDest  float64\n",
            " 9   isFraud         int64  \n",
            " 10  isFlaggedFraud  int64  \n",
            "dtypes: float64(5), int64(3), object(3)\n",
            "memory usage: 534.0+ MB\n"
          ]
        }
      ]
    },
    {
      "cell_type": "markdown",
      "source": [
        "To see if we have null values in the dataset lets use the **.isnull()** combined with **.any()** method, that will give us the following:"
      ],
      "metadata": {
        "id": "lDw2lgZ4f4Od"
      }
    },
    {
      "cell_type": "code",
      "source": [
        "df.isnull().any()"
      ],
      "metadata": {
        "colab": {
          "base_uri": "https://localhost:8080/"
        },
        "id": "4vsKkzSqIItc",
        "outputId": "ecc791d8-5bae-4a21-907a-74e4ca8d42b6"
      },
      "execution_count": null,
      "outputs": [
        {
          "output_type": "execute_result",
          "data": {
            "text/plain": [
              "step              False\n",
              "type              False\n",
              "amount            False\n",
              "nameOrig          False\n",
              "oldbalanceOrg     False\n",
              "newbalanceOrig    False\n",
              "nameDest          False\n",
              "oldbalanceDest    False\n",
              "newbalanceDest    False\n",
              "isFraud           False\n",
              "isFlaggedFraud    False\n",
              "dtype: bool"
            ]
          },
          "metadata": {},
          "execution_count": 7
        }
      ]
    },
    {
      "cell_type": "markdown",
      "source": [
        "Here we see our first big information, we do not have **any** null data on our dataset.\n",
        "For learning purposes, this is something you will probably not see in a day to day analysis, but if you do, that would save a lot of time, since you won't need to replace the data."
      ],
      "metadata": {
        "id": "ZELymN1WfWgI"
      }
    },
    {
      "cell_type": "markdown",
      "source": [
        "For better understanding of the data and to see where we can find fraudulent transactions, lets see all the types of Transactions that we have, using the **.unique()** method on the column type."
      ],
      "metadata": {
        "id": "qNL2Is_LgO6b"
      }
    },
    {
      "cell_type": "code",
      "source": [
        "df['type'].unique()"
      ],
      "metadata": {
        "colab": {
          "base_uri": "https://localhost:8080/"
        },
        "id": "K8E6snYnNSbl",
        "outputId": "8d1f9a03-d191-45d1-ba78-6c65057f3ffe"
      },
      "execution_count": null,
      "outputs": [
        {
          "output_type": "execute_result",
          "data": {
            "text/plain": [
              "array(['PAYMENT', 'TRANSFER', 'CASH_OUT', 'DEBIT', 'CASH_IN'],\n",
              "      dtype=object)"
            ]
          },
          "metadata": {},
          "execution_count": 8
        }
      ]
    },
    {
      "cell_type": "markdown",
      "source": [
        "Now that we know that there is only 5 types of payment on all the transactions, we can analyse the amount of money of each transaction on the dataset. With this we can better understand where most of the frauds are happening.\n",
        "We will be using a bar plot to see this amounts, since it is easy to see 5 values in a bar chart."
      ],
      "metadata": {
        "id": "4QYbDMsRgiNG"
      }
    },
    {
      "cell_type": "code",
      "source": [
        "barplot = df.groupby('type').amount.sum()\n",
        "fig = plt.figure()\n",
        "ex = fig.add_subplot(1,1,1)\n",
        "barplot.plot(kind='bar')"
      ],
      "metadata": {
        "colab": {
          "base_uri": "https://localhost:8080/",
          "height": 542
        },
        "id": "zY6pCgaBMZUm",
        "outputId": "6ff36202-ad30-4c77-c826-ebbd035b9f8f"
      },
      "execution_count": null,
      "outputs": [
        {
          "output_type": "execute_result",
          "data": {
            "text/plain": [
              "<Axes: xlabel='type'>"
            ]
          },
          "metadata": {},
          "execution_count": 9
        },
        {
          "output_type": "display_data",
          "data": {
            "text/plain": [
              "<Figure size 640x480 with 1 Axes>"
            ],
            "image/png": "[encoded data removed]"
          },
          "metadata": {}
        }
      ]
    },
    {
      "cell_type": "markdown",
      "source": [
        "Presumably we can notice that the payment and debit types are pretty much non present on our dataset, for better understatanding, it means that they are more likely to not contain the fraudulent transactions since they are small in comparison to the others, debit in specific we can`t even see."
      ],
      "metadata": {
        "id": "u_bKQOnghD0H"
      }
    },
    {
      "cell_type": "markdown",
      "source": [
        "To confirm that we can see how many frauds actually happend in this types of transactions compared to all of the frauds, lets do the following:\n",
        "\n",
        "\n",
        "\n",
        "*   Transform the data from Strings to Int so we can better analyse. We can make that with the method **.replace**\n",
        "\n",
        "*   Check and save how many frauds there is on our dataset and save it to teh variable **sum_frauds**;\n",
        "*   Then, compare this total to the (debit + payment) sum of frauds.\n",
        "\n"
      ],
      "metadata": {
        "id": "i5bN0x2_ho5q"
      }
    },
    {
      "cell_type": "code",
      "source": [
        "df = df.replace(to_replace={'PAYMENT':1,'TRANSFER':2,'CASH_OUT':3,'CASH_IN':4,'DEBIT':5,'No':0,'Yes':1})"
      ],
      "metadata": {
        "id": "APv07odZmXyq"
      },
      "execution_count": null,
      "outputs": []
    },
    {
      "cell_type": "code",
      "source": [
        "sum_frauds = (df[\"isFraud\"] == 1).sum()\n",
        "print(\"Total frauds on the dataset: {}.\".format(sum_frauds))"
      ],
      "metadata": {
        "id": "PmqVRzmsMmJo",
        "colab": {
          "base_uri": "https://localhost:8080/"
        },
        "outputId": "af66cd0f-3398-4af6-b633-8fde955dcbb9"
      },
      "execution_count": null,
      "outputs": [
        {
          "output_type": "stream",
          "name": "stdout",
          "text": [
            "Total frauds on the dataset: 8213.\n"
          ]
        }
      ]
    },
    {
      "cell_type": "code",
      "source": [
        "debit_fraud_sum = df[(df['type'] == 5) & (df['isFraud'] == 1)].isFraud.sum()\n",
        "payment_fraud_sum = df[(df[\"type\"] == 1) & (df[\"isFraud\"] == 1)].isFraud.sum()\n",
        "sum_debit_payment = debit_fraud_sum + payment_fraud_sum\n",
        "print(\"Total sum of debit + payment frauds is: {}.\".format(sum_debit_payment))\n",
        "print(\"So for all the debits and payments we have a ratio of: 0:{} frauds.\".format(sum_frauds))"
      ],
      "metadata": {
        "colab": {
          "base_uri": "https://localhost:8080/"
        },
        "id": "N-W7EqNomuLO",
        "outputId": "a76138ad-8904-4eb1-a017-6fe01690ac27"
      },
      "execution_count": null,
      "outputs": [
        {
          "output_type": "stream",
          "name": "stdout",
          "text": [
            "Total sum of debit + payment frauds is: 0.\n",
            "So for all the debits and payments we have a ratio of: 0:8213 frauds.\n"
          ]
        }
      ]
    },
    {
      "cell_type": "markdown",
      "source": [
        "Now, is there a better way to see if this happens for the other types of transactions even if they are much more used?\n",
        "There acttualy is a way, we can use the same bar plot as above to see this.\n",
        "But here, we will use the **isFraud** column to see each one of the type and if they are impacted by the frauds."
      ],
      "metadata": {
        "id": "2eHNLYvrpz0N"
      }
    },
    {
      "cell_type": "code",
      "source": [
        "barplot = df.groupby('type').isFraud.sum()\n",
        "fig = plt.figure()\n",
        "ex = fig.add_subplot(1,1,1)\n",
        "barplot.plot(kind='bar')"
      ],
      "metadata": {
        "colab": {
          "base_uri": "https://localhost:8080/",
          "height": 461
        },
        "id": "Lojh26aJqE2y",
        "outputId": "142ee149-b1d2-4be4-fd5a-d19c0d303598"
      },
      "execution_count": null,
      "outputs": [
        {
          "output_type": "execute_result",
          "data": {
            "text/plain": [
              "<Axes: xlabel='type'>"
            ]
          },
          "metadata": {},
          "execution_count": 13
        },
        {
          "output_type": "display_data",
          "data": {
            "text/plain": [
              "<Figure size 640x480 with 1 Axes>"
            ],
            "image/png": "[encoded data removed]"
          },
          "metadata": {}
        }
      ]
    },
    {
      "cell_type": "markdown",
      "source": [
        "**Wow, thats something interesting.**\n",
        "\n",
        "So why is this so discrepant? Some arguments can be that, **Transfer** transactions are one of the most common practices of frauds in the world, they happen in impersonating situations of families and friends asking for money, thiefs steeling personal cards and cellphones, and so on.\n",
        "\n",
        "For the **Cash outs**, we have a lot of impersonating and ATM`s devices to capture user cards information."
      ],
      "metadata": {
        "id": "1bC0MnIHq23J"
      }
    },
    {
      "cell_type": "markdown",
      "source": [
        "Lets sum all the fraud data and find out how many frauds there are in the Transfer and Cash_out methods.\n",
        "\n",
        "Once there is just this two types of methods which are fraudulent, we can use the **sum_frauds** we used earlier.\n",
        "\n",
        "So lets see how is the ratio of this frauds to the data that is not fraud, we can do that by dividing the **isFraud** == 0, by the **isFraud** == 1 or the **sum_frauds** we saw earlier."
      ],
      "metadata": {
        "id": "8QKH3fnKuRHe"
      }
    },
    {
      "cell_type": "code",
      "source": [
        "all_isFraud_data = (df[\"isFraud\"] == 0).sum()\n",
        "print(\"Ratio of frauds vs the whole data is 1:{}.\".format(all_isFraud_data//sum_frauds))"
      ],
      "metadata": {
        "colab": {
          "base_uri": "https://localhost:8080/"
        },
        "id": "haIB_ggSudsB",
        "outputId": "40d96129-c71f-4044-a934-a9044bb9686f"
      },
      "execution_count": null,
      "outputs": [
        {
          "output_type": "stream",
          "name": "stdout",
          "text": [
            "Ratio of frauds vs the whole data is 1:773.\n"
          ]
        }
      ]
    },
    {
      "cell_type": "markdown",
      "source": [
        "This is kinda concerning to the models we are going to train further on, once this shows that only one fraud happens in each 773 cases, this can lead us to fall in a **overfitting** condition where our model will train with a disbalanced dataset, leading us to one side, the non fraudulent transaction, missclassifing our new datain the future."
      ],
      "metadata": {
        "id": "KbbyVbxFwgTf"
      }
    },
    {
      "cell_type": "markdown",
      "source": [
        "Once we have a column **isFlaggedFraud** lets see if this is something that is alreadly happening.\n",
        "\n",
        "We can do this by divding **sum_frauds** by **isFlaggedFraud** and find the ratio just like we did above.\n"
      ],
      "metadata": {
        "id": "WALkRQjrw_c0"
      }
    },
    {
      "cell_type": "code",
      "source": [
        "is_Flagged_Fraud = (df[\"isFlaggedFraud\"] == 1).sum()\n",
        "print(\"Ratio of flagged frauds vs the actual amount of frauds is 1:{}.\".format(sum_frauds//is_Flagged_Fraud))"
      ],
      "metadata": {
        "colab": {
          "base_uri": "https://localhost:8080/"
        },
        "id": "CFjyVDdGxfkD",
        "outputId": "463b6c4a-93ac-4840-d6d4-d72486d3b205"
      },
      "execution_count": null,
      "outputs": [
        {
          "output_type": "stream",
          "name": "stdout",
          "text": [
            "Ratio of flagged frauds vs the actual amount of frauds is 1:513.\n"
          ]
        }
      ]
    },
    {
      "cell_type": "markdown",
      "source": [
        "**Building our first model**\n",
        "\n",
        "For our first model, we will be using as our data for training and testing the whole dataset, without any type of cleaning and changes to it.\n",
        "For comparison measures we will be using the 3 model type we saw at the beggining (KNN, Logistic Regression and Decision Tree).\n",
        "Lets import again our dataset and just transform the column types to numeric values so we can train the dataset."
      ],
      "metadata": {
        "id": "xpbpt5nqqNn1"
      }
    },
    {
      "cell_type": "code",
      "source": [
        "df = pd.read_csv('/content/drive/MyDrive/Colab Notebooks/Detect Fraud/PS_20174392719_1491204439457_log.csv')\n",
        "df = df.replace(to_replace={'PAYMENT':1,'TRANSFER':2,'CASH_OUT':3,'CASH_IN':4,'DEBIT':5,'No':0,'Yes':1})"
      ],
      "metadata": {
        "id": "gJ4c0WRxqO0x"
      },
      "execution_count": null,
      "outputs": []
    },
    {
      "cell_type": "markdown",
      "source": [
        "Now we import the libraries we will be using. And dropping the 3 columns that does not have any impact on the data, they are:\n",
        "\n",
        "\n",
        "*   namOrig\n",
        "*   nameDest\n",
        "*   isFlaggedFraud\n",
        "\n",
        "For explanation, the names columns doesn`t impact on the prediction, once frauds do not occur because of the name of the person. And the flaggedFraud is so irrelevant to the whole data that we can exclude it.\n",
        "\n",
        "\n",
        "\n"
      ],
      "metadata": {
        "id": "Db0qBwaJq5r3"
      }
    },
    {
      "cell_type": "code",
      "source": [
        "from sklearn.tree import DecisionTreeClassifier\n",
        "from sklearn.metrics import mean_absolute_error\n",
        "from sklearn.model_selection import train_test_split\n",
        "from sklearn.metrics import average_precision_score\n",
        "df.drop([\"nameOrig\", \"nameDest\", \"isFlaggedFraud\"], axis = 1, inplace = True)\n"
      ],
      "metadata": {
        "id": "Ci1Y8e9Fq-Lm"
      },
      "execution_count": null,
      "outputs": []
    },
    {
      "cell_type": "code",
      "source": [
        "X = df.drop([\"isFraud\"], axis =1)\n",
        "y = df[\"isFraud\"]\n",
        "\n",
        "train_X, val_X, train_y, val_y = train_test_split(X, y, test_size = 0.20, random_state = 42)\n",
        "\n",
        "dt_model = DecisionTreeClassifier()\n",
        "\n",
        "dt_probabilities = dt_model.fit(train_X, train_y).predict(val_X)\n",
        "\n",
        "print(average_precision_score(val_y, dt_probabilities))\n"
      ],
      "metadata": {
        "colab": {
          "base_uri": "https://localhost:8080/"
        },
        "id": "NdaRHCaUyfaU",
        "outputId": "d9039bd6-c7d6-410c-b328-b785be30f8e1"
      },
      "execution_count": null,
      "outputs": [
        {
          "output_type": "stream",
          "name": "stdout",
          "text": [
            "0.7882351842445192\n"
          ]
        }
      ]
    },
    {
      "cell_type": "code",
      "source": [
        "from sklearn.neighbors import KNeighborsClassifier\n",
        "knn_model = KNeighborsClassifier(n_neighbors=3)\n",
        "knn_probabilities = knn_model.fit(X, y).predict(val_X)\n",
        "\n",
        "print(average_precision_score(val_y, knn_probabilities))\n",
        "\n",
        "#3 minutos e 21 segundos"
      ],
      "metadata": {
        "colab": {
          "base_uri": "https://localhost:8080/"
        },
        "id": "UV3OsGz73A5b",
        "outputId": "2545b686-1f39-42d8-e186-a56885912019"
      },
      "execution_count": null,
      "outputs": [
        {
          "output_type": "stream",
          "name": "stdout",
          "text": [
            "0.7249732424412186\n"
          ]
        }
      ]
    },
    {
      "cell_type": "code",
      "source": [
        "from sklearn.linear_model import LogisticRegression\n",
        "lr_model = LogisticRegression(random_state = 42).fit(X, y)\n",
        "lr_probabilities = lr_model.predict(val_X)\n",
        "\n",
        "print(average_precision_score(val_y, lr_probabilities))\n",
        "\n",
        "#51 segundos"
      ],
      "metadata": {
        "colab": {
          "base_uri": "https://localhost:8080/"
        },
        "id": "DiOlKHYi43Yn",
        "outputId": "e7e2d397-b044-4810-a9b8-0fa18760e18e"
      },
      "execution_count": null,
      "outputs": [
        {
          "output_type": "stream",
          "name": "stdout",
          "text": [
            "0.14853557709340046\n"
          ]
        }
      ]
    },
    {
      "cell_type": "markdown",
      "source": [
        "**Insights**\n",
        "\n",
        "So, we saw that the best model is the decision tree classifier, we were able to get a 78% score, wich is acctualy a good score. But when we are dealing with frauds, we need it to be as close to 100% as possible so we can identify the frauds and act on it before its to late to do something.\n",
        "\n",
        "**How we can get better Scores?**\n",
        "\n",
        "Well we can act on various ways, like:\n",
        "\n",
        "\n",
        "*   Delete some of our data that represents the side of the rating wich is the non frauds data, to get a better ratio then 1:773;\n",
        "*   Add more data to our side of the rating wich is the frauds data, making the rating go lower as well. We can do this by using methods like **SMOTE**, that creates syntatic data by taking the difference between a sample and its nearest neighbour multiplying the difference by a random number between 0-1 then add this difference to the sample to generate a new synthetic example then continue on with next nearest neighbour up to user-defined number. We can even a rating that we aim.\n",
        "*   Study what the company wants and focus on only part of the data, getting better results, by stratifying the data. We can do that with the **stratifyed sample** statistic method.\n",
        "\n",
        "\n",
        "\n",
        "\n"
      ],
      "metadata": {
        "id": "ldW5bCpR6guL"
      }
    },
    {
      "cell_type": "markdown",
      "source": [
        "We will be trying 2 of the 3 strategies, the deleting of some of our data, and the SMOTE strategy.\n",
        "\n",
        "**Deleting Data**\n",
        "This is not the safest bet to most of the cases but here we saw that we have some types of transactions that don`t even have frauds, so we will be experimeinting with deleting those types to see if we have a better ratio and a better model."
      ],
      "metadata": {
        "id": "ISk9c7pB6eau"
      }
    },
    {
      "cell_type": "code",
      "source": [
        "type_cashin = df[(df[\"type\"] == 4)]\n",
        "type_cashin = type_cashin.type.count()\n",
        "print(type_cashin)"
      ],
      "metadata": {
        "colab": {
          "base_uri": "https://localhost:8080/"
        },
        "id": "gij8mu02jSek",
        "outputId": "24147406-ae2a-44e5-e8aa-812d7887607a"
      },
      "execution_count": null,
      "outputs": [
        {
          "output_type": "stream",
          "name": "stdout",
          "text": [
            "1399284\n"
          ]
        }
      ]
    },
    {
      "cell_type": "code",
      "source": [
        "type_payment = df[(df[\"type\"] == 1)]\n",
        "type_payment = type_payment.type.count()\n",
        "print(type_payment)"
      ],
      "metadata": {
        "colab": {
          "base_uri": "https://localhost:8080/"
        },
        "id": "EQwJI3OgkKhw",
        "outputId": "f0d21013-75de-4105-8885-0dcf70400c31"
      },
      "execution_count": null,
      "outputs": [
        {
          "output_type": "stream",
          "name": "stdout",
          "text": [
            "2151495\n"
          ]
        }
      ]
    },
    {
      "cell_type": "code",
      "source": [
        "type_debit = df[(df[\"type\"] == 5)]\n",
        "type_debit = type_debit.type.count()\n",
        "print(type_debit)"
      ],
      "metadata": {
        "colab": {
          "base_uri": "https://localhost:8080/"
        },
        "id": "s4738Z-tkdkW",
        "outputId": "2216512a-4cc7-4a23-ce7e-48343728885e"
      },
      "execution_count": null,
      "outputs": [
        {
          "output_type": "stream",
          "name": "stdout",
          "text": [
            "41432\n"
          ]
        }
      ]
    },
    {
      "cell_type": "code",
      "source": [
        "sum_types = type_cashin + type_payment + type_debit"
      ],
      "metadata": {
        "id": "e4wm-mi77nMm"
      },
      "execution_count": null,
      "outputs": []
    },
    {
      "cell_type": "code",
      "source": [
        "print(\"Ratio of frauds vs the whole data is 1:{}.\".format(all_isFraud_data//sum_frauds))\n",
        "print(\"New ratio of frauds vs the whole data is 1:{}.\".format(sum_types//sum_frauds))"
      ],
      "metadata": {
        "colab": {
          "base_uri": "https://localhost:8080/"
        },
        "id": "Oag7RtJ-lHij",
        "outputId": "fef81a65-536a-40f8-9ec8-4b7500a157e6"
      },
      "execution_count": null,
      "outputs": [
        {
          "output_type": "stream",
          "name": "stdout",
          "text": [
            "Ratio of frauds vs the whole data is 1:773.\n",
            "New ratio of frauds vs the whole data is 1:437.\n"
          ]
        }
      ]
    },
    {
      "cell_type": "markdown",
      "source": [
        "Right we were able to reduce the ratio by 336, but is this enough to get our model to make a improvment? Lets check it."
      ],
      "metadata": {
        "id": "j1G04DTj8UEB"
      }
    },
    {
      "cell_type": "code",
      "source": [
        "df = pd.read_csv('/content/drive/MyDrive/Colab Notebooks/Detect Fraud/PS_20174392719_1491204439457_log.csv')\n",
        "df = df.replace(to_replace={'PAYMENT':1,'TRANSFER':2,'CASH_OUT':3,'CASH_IN':4,'DEBIT':5,'No':0,'Yes':1})"
      ],
      "metadata": {
        "id": "6aMSeegk8w_I"
      },
      "execution_count": null,
      "outputs": []
    },
    {
      "cell_type": "code",
      "source": [
        "from sklearn.tree import DecisionTreeClassifier\n",
        "from sklearn.metrics import mean_absolute_error\n",
        "from sklearn.model_selection import train_test_split\n",
        "from sklearn.metrics import average_precision_score\n",
        "df.drop([\"nameOrig\", \"nameDest\", \"isFlaggedFraud\"], axis = 1, inplace = True)\n"
      ],
      "metadata": {
        "id": "BIavylrUl7u2"
      },
      "execution_count": null,
      "outputs": []
    },
    {
      "cell_type": "markdown",
      "source": [
        "Lets Drop the types wich we analysed above to improve our ratio."
      ],
      "metadata": {
        "id": "JnLzkWu-81I8"
      }
    },
    {
      "cell_type": "code",
      "source": [
        "types_to_drop = [1, 4, 5]\n",
        "df = df.drop(df[df['type'].isin(types_to_drop)].index)"
      ],
      "metadata": {
        "id": "X2AcoyKuo_rY"
      },
      "execution_count": null,
      "outputs": []
    },
    {
      "cell_type": "code",
      "source": [
        "# DEFINING OUR TRAIN / TEST SPLIT\n",
        "X = df.drop([\"isFraud\"], axis =1)\n",
        "y = df[\"isFraud\"]\n",
        "\n",
        "train_X, val_X, train_y, val_y = train_test_split(X, y, test_size = 0.20, random_state = 42)"
      ],
      "metadata": {
        "id": "_5wuGcO49KC1"
      },
      "execution_count": null,
      "outputs": []
    },
    {
      "cell_type": "code",
      "source": [
        "# DECISION TREE\n",
        "dt_model = DecisionTreeClassifier()\n",
        "\n",
        "dt_probabilities = dt_model.fit(train_X, train_y).predict(val_X)\n",
        "\n",
        "print(average_precision_score(val_y, dt_probabilities))"
      ],
      "metadata": {
        "colab": {
          "base_uri": "https://localhost:8080/"
        },
        "id": "fRv-kCSb9MO2",
        "outputId": "c047cc7d-fc81-4b6e-e8e0-3eec84d9e704"
      },
      "execution_count": null,
      "outputs": [
        {
          "output_type": "stream",
          "name": "stdout",
          "text": [
            "0.7701574579776845\n"
          ]
        }
      ]
    },
    {
      "cell_type": "code",
      "source": [
        "# KNN\n",
        "from sklearn.neighbors import KNeighborsClassifier\n",
        "knn_model = KNeighborsClassifier(n_neighbors=3)\n",
        "knn_probabilities = knn_model.fit(X, y).predict(val_X)\n",
        "\n",
        "print(average_precision_score(val_y, knn_probabilities))"
      ],
      "metadata": {
        "colab": {
          "base_uri": "https://localhost:8080/"
        },
        "id": "sCSK6S6K9WpT",
        "outputId": "0017427a-275c-4563-9730-fd5249ae44f4"
      },
      "execution_count": null,
      "outputs": [
        {
          "output_type": "stream",
          "name": "stdout",
          "text": [
            "0.7607221082855989\n"
          ]
        }
      ]
    },
    {
      "cell_type": "code",
      "source": [
        "# LOGISTIC REGRESSION\n",
        "from sklearn.linear_model import LogisticRegression\n",
        "lr_model = LogisticRegression(random_state = 42).fit(X, y)\n",
        "lr_probabilities = lr_model.predict(val_X)\n",
        "\n",
        "print(average_precision_score(val_y, lr_probabilities))"
      ],
      "metadata": {
        "colab": {
          "base_uri": "https://localhost:8080/"
        },
        "id": "q16WHXmh9bnC",
        "outputId": "e95497a1-d230-4406-ab89-3cf68b7c12fd"
      },
      "execution_count": null,
      "outputs": [
        {
          "output_type": "stream",
          "name": "stdout",
          "text": [
            "0.21774139061899442\n"
          ]
        }
      ]
    },
    {
      "cell_type": "markdown",
      "source": [
        "**Thats something**\n",
        "\n",
        "Here we notice something strange, two of our models have now improved in the precision but the regression tree didn`t, and why is that?\n",
        "\n",
        "\n",
        "\n",
        "*  Decision Tree, **was** 78% ---> **now** 77%.\n",
        "\n",
        "*  KNN, **was** 72% ---> **now** 76%.\n",
        "\n",
        "*  Logistic Regression, **was** 14% ---> **now** 21%.\n",
        "\n",
        "Well this can be a good example to show that each type of model have its own proprieties, one of this is the Randomness. Basically, a tree is a boolean decision making algorithm so for some reason if the data we deleted impacted in one of these decisions, it can change the whole scheme of a tree making it not balanced, overfittet, or even underfittet and much more. So we can maybe infer that deleting a big chunk of the dataset can impact negativetly in some of our models.\n",
        "\n",
        "\n",
        "\n",
        "\n"
      ],
      "metadata": {
        "id": "5Q8_kmEU-bf2"
      }
    },
    {
      "cell_type": "markdown",
      "source": [
        "**NEXT**\n",
        "\n",
        "Because this is a try and error exercise, we will continue to try the next method the **SMOTE**, and of course because we want to get our best model the **decision tree** to improve and not otherwise."
      ],
      "metadata": {
        "id": "j-PtxO_nAijO"
      }
    },
    {
      "cell_type": "code",
      "source": [
        "df = pd.read_csv('/content/drive/MyDrive/Colab Notebooks/Detect Fraud/PS_20174392719_1491204439457_log.csv')\n",
        "df = df.replace(to_replace={'PAYMENT':1,'TRANSFER':2,'CASH_OUT':3,'CASH_IN':4,'DEBIT':5,'No':0,'Yes':1})"
      ],
      "metadata": {
        "id": "EQcT6qZ6A2lh"
      },
      "execution_count": null,
      "outputs": []
    },
    {
      "cell_type": "code",
      "source": [
        "from sklearn.tree import DecisionTreeClassifier\n",
        "from sklearn.metrics import mean_absolute_error\n",
        "from sklearn.model_selection import train_test_split\n",
        "from sklearn.metrics import average_precision_score\n",
        "from imblearn.over_sampling import SMOTE\n",
        "df.drop([\"nameOrig\", \"nameDest\", \"isFlaggedFraud\"], axis = 1, inplace = True)"
      ],
      "metadata": {
        "id": "CeD0deItA3jS"
      },
      "execution_count": null,
      "outputs": []
    },
    {
      "cell_type": "code",
      "source": [
        "# Ratio of non-fraud to fraud data points\n",
        "ratio = 300\n",
        "\n",
        "# Separate features (X) and target variable (y)\n",
        "X = df.drop([\"isFraud\"], axis=1)\n",
        "y = df[\"isFraud\"]\n",
        "\n",
        "# Apply SMOTE to balance the classes\n",
        "smote = SMOTE(sampling_strategy={1: len(df[df['isFraud'] == 0]) // ratio})\n",
        "X_resampled, y_resampled = smote.fit_resample(X, y)\n",
        "\n",
        "# Split data into training and validation sets\n",
        "train_X, val_X, train_y, val_y = train_test_split(X_resampled, y_resampled, test_size=0.20, random_state=42)"
      ],
      "metadata": {
        "id": "Nq5Zj3SeBAOO"
      },
      "execution_count": null,
      "outputs": []
    },
    {
      "cell_type": "code",
      "source": [
        "\n",
        "# Train Decision Tree model\n",
        "dt_model = DecisionTreeClassifier()\n",
        "\n",
        "dt_val_predictions = dt_model.fit(train_X, train_y).predict(val_X)\n",
        "\n",
        "# Calculate average precision score\n",
        "print(average_precision_score(val_y, dt_val_predictions))"
      ],
      "metadata": {
        "colab": {
          "base_uri": "https://localhost:8080/"
        },
        "id": "xkMWx83sBHy6",
        "outputId": "ae42e03f-a6e6-4d14-acdb-c79855855f16"
      },
      "execution_count": null,
      "outputs": [
        {
          "output_type": "stream",
          "name": "stdout",
          "text": [
            "0.872716209868325\n"
          ]
        }
      ]
    },
    {
      "cell_type": "code",
      "source": [
        "# KNN\n",
        "from sklearn.neighbors import KNeighborsClassifier\n",
        "knn_model = KNeighborsClassifier(n_neighbors=3)\n",
        "knn_probabilities = knn_model.fit(train_X, train_y).predict(val_X)\n",
        "\n",
        "print(average_precision_score(val_y, knn_probabilities))"
      ],
      "metadata": {
        "colab": {
          "base_uri": "https://localhost:8080/"
        },
        "id": "vVkJ7Ij1Emfw",
        "outputId": "79839186-88af-44de-bc42-d673ecc760bb"
      },
      "execution_count": null,
      "outputs": [
        {
          "output_type": "stream",
          "name": "stdout",
          "text": [
            "0.7287299736390476\n"
          ]
        }
      ]
    },
    {
      "cell_type": "code",
      "source": [
        "# LOGISTIC REGRESSION\n",
        "from sklearn.linear_model import LogisticRegression\n",
        "lr_model = LogisticRegression(random_state = 42).fit(X, y)\n",
        "lr_probabilities = lr_model.predict(val_X)\n",
        "\n",
        "print(average_precision_score(val_y, lr_probabilities))"
      ],
      "metadata": {
        "colab": {
          "base_uri": "https://localhost:8080/"
        },
        "id": "Bf__gFV_EpAb",
        "outputId": "2dedaedd-655c-4f83-d5fc-3dae219aa28f"
      },
      "execution_count": null,
      "outputs": [
        {
          "output_type": "stream",
          "name": "stdout",
          "text": [
            "0.2608213994081835\n"
          ]
        }
      ]
    },
    {
      "cell_type": "markdown",
      "source": [
        "**Now Thats Better**\n",
        "\n",
        "We saw now that we have a huge improvment into the decision tree model and the logistic regression as well.\n",
        "\n",
        "\n",
        "\n",
        "*   Decision Tree, **was** 78% ---> **now** 87%\n",
        "\n",
        "*   KNN, **was** 72% ---> **now** 72%\n",
        "\n",
        "*   Logistic Regression, **was** 14% ---> **now** 26%\n",
        "\n",
        "And why we had such a big improvment?\n",
        "\n",
        "Well here is the basic on how SMOTE works and how we`ve implemented it:\n",
        "\n",
        "*   We define a variable **ratio** wich represents an int number that we want the model to be within 1:**ratio** variable.\n",
        "*   Defining teh ratio to 300 we alreadly improved our past try where we got a 1:437 ratio. But didnt we saw that only this doesn`t prove that the model will improve?\n",
        "\n",
        "*   **Right**, but thats where SMOTE comes in, smote is a technic where it creates syntetic data for the part of the ratio that is on disadvantage.\n",
        "*   So we didn`t delete any data like before, we acctually created data to balance the dataset.\n",
        "\n",
        "*   With that we can improve the ratio to a satisfing margin where we don`t fall into the overfitting as well.\n",
        "\n",
        "\n",
        "\n",
        "\n",
        "\n",
        "\n",
        "\n",
        "\n",
        "\n",
        "\n",
        "\n",
        "\n"
      ],
      "metadata": {
        "id": "q6spyGxx62TG"
      }
    },
    {
      "cell_type": "markdown",
      "source": [
        "**At last lets see the Confusion Matrix, precision, recall and accuracy of our model**"
      ],
      "metadata": {
        "id": "CX_HxV9t9d3c"
      }
    },
    {
      "cell_type": "code",
      "source": [
        "from sklearn.metrics import confusion_matrix\n",
        "from sklearn.metrics import accuracy_score\n",
        "from sklearn.metrics import precision_score\n",
        "from sklearn.metrics import recall_score"
      ],
      "metadata": {
        "id": "hXVwTz8d9ONo"
      },
      "execution_count": null,
      "outputs": []
    },
    {
      "cell_type": "code",
      "source": [
        "# FOR THE DECISION TREE MODEL\n",
        "print(\"DECISION TREE\")\n",
        "print(\"Confusion Matrix: \\n\", confusion_matrix(val_y, dt_val_predictions))\n",
        "print(\"-\" * 20)\n",
        "print(\"Accuracy Score: \", accuracy_score(val_y, dt_val_predictions))\n",
        "print(\"-\" * 20)\n",
        "print(\"Precision Score: \", precision_score(val_y, dt_val_predictions))\n",
        "print(\"-\" * 20)\n",
        "print(\"Recall Score: \", recall_score(val_y, dt_val_predictions))"
      ],
      "metadata": {
        "colab": {
          "base_uri": "https://localhost:8080/"
        },
        "id": "Uw2c0OdlAlsy",
        "outputId": "b245b9ed-a67e-4566-bd05-44e765b8bf75"
      },
      "execution_count": null,
      "outputs": [
        {
          "output_type": "stream",
          "name": "stdout",
          "text": [
            "DECISION TREE\n",
            "Confusion Matrix: \n",
            " [[1270631     282]\n",
            " [    273    3932]]\n",
            "--------------------\n",
            "Accuracy Score:  0.9995647461646687\n",
            "--------------------\n",
            "Precision Score:  0.9330802088277171\n",
            "--------------------\n",
            "Recall Score:  0.935077288941736\n"
          ]
        }
      ]
    },
    {
      "cell_type": "code",
      "source": [
        "# FOR THE KNN MODEL\n",
        "print(\"KNN\")\n",
        "print(\"Confusion Matrix: \\n\", confusion_matrix(val_y, knn_probabilities))\n",
        "print(\"-\" * 20)\n",
        "print(\"Accuracy Score: \", accuracy_score(val_y, knn_probabilities))\n",
        "print(\"-\" * 20)\n",
        "print(\"Precision Score: \", precision_score(val_y, knn_probabilities))\n",
        "print(\"-\" * 20)\n",
        "print(\"Recall Score: \", recall_score(val_y, knn_probabilities))"
      ],
      "metadata": {
        "colab": {
          "base_uri": "https://localhost:8080/"
        },
        "id": "SRhWfFUbBxjA",
        "outputId": "9718208a-25ca-4b32-d14c-9d65dd67496f"
      },
      "execution_count": null,
      "outputs": [
        {
          "output_type": "stream",
          "name": "stdout",
          "text": [
            "KNN\n",
            "Confusion Matrix: \n",
            " [[1270293     620]\n",
            " [    614    3591]]\n",
            "--------------------\n",
            "Accuracy Score:  0.9990322464273894\n",
            "--------------------\n",
            "Precision Score:  0.8527665637615768\n",
            "--------------------\n",
            "Recall Score:  0.8539833531510107\n"
          ]
        }
      ]
    },
    {
      "cell_type": "code",
      "source": [
        "# FOR THE LOGISTIC REGRESSION MODEL\n",
        "print(\"LOGISTIC REGRESSION\")\n",
        "print(\"Confusion Matrix: \\n\", confusion_matrix(val_y, lr_probabilities))\n",
        "print(\"-\" * 20)\n",
        "print(\"Accuracy Score: \", accuracy_score(val_y, lr_probabilities))\n",
        "print(\"-\" * 20)\n",
        "print(\"Precision Score: \", precision_score(val_y, lr_probabilities))\n",
        "print(\"-\" * 20)\n",
        "print(\"Recall Score: \", recall_score(val_y, lr_probabilities))"
      ],
      "metadata": {
        "colab": {
          "base_uri": "https://localhost:8080/"
        },
        "id": "ZR475uHyB4Ny",
        "outputId": "1e0229c2-d1dd-4137-9064-4c32be18471e"
      },
      "execution_count": null,
      "outputs": [
        {
          "output_type": "stream",
          "name": "stdout",
          "text": [
            "LOGISTIC REGRESSION\n",
            "Confusion Matrix: \n",
            " [[1269691    1222]\n",
            " [   2385    1820]]\n",
            "--------------------\n",
            "Accuracy Score:  0.9971712421909188\n",
            "--------------------\n",
            "Precision Score:  0.5982905982905983\n",
            "--------------------\n",
            "Recall Score:  0.4328180737217598\n"
          ]
        }
      ]
    },
    {
      "cell_type": "markdown",
      "source": [
        "**WHAT WE SEE HERE?**\n",
        "\n",
        "Well here we see 4 measures the confusion matrix, the accuracy score, precision score and the recall score, lets find out what each one of them represents. For that we will be using the 4 measures of the **decision tree** wich was the best model out of the 3 we used.\n",
        "\n",
        "\n",
        "*   **Confusion Matrix:** Here, we can see 4 numbers representing the following\n",
        "\n",
        "  [[TN    FP]\n",
        "\n",
        "  [   FN    TP]]\n",
        "\n",
        "  That means that our model correctly predicted 1270631 Acctually negative data and 3932 Acctually positive data. That shows us first that the model is clearly still misbalanced were we have a lot more negative values, but that our model was able to predict a good amount of acctually positive fraudulent data, much better than the inicial stats we had at the beggining.\n",
        "\n",
        "*   **Accuracy Score:** The accuracy score is a beautifull number to look at but doesn`t necesserly shows us the impact of our model, that is because accuracy is highly influenced by imbalanced data, wich is our case, so even when we fail to correctly classify a data, the model is still pending to the other side of the data.\n",
        "\n",
        "*   **Precision Score:** This score tells us how often our Positive class acctually was correct, by taking all of the True positive data that it classified and dividing by the sum of TP + FP, with a closer answer to 1 we can infer that the model is getting a lot of correct classification wich is good for our business. And it is a good measurment for imbalanced data.\n",
        "\n",
        "*   **Recall Score:** Recall is one of the best measurments to know how well our model is acctually doing. It takes all the TP data and divide it by the sum of TP + FN, that basically gives us the true percentage of how many true positives data we could identify within all the acctually positive data. With the 93% we could idendify 93 percent of the data that was fraud. And it also works well with imbalanced data.\n",
        "\n",
        "\n",
        "\n"
      ],
      "metadata": {
        "id": "G_r-IPVqn-PO"
      }
    },
    {
      "cell_type": "markdown",
      "source": [
        "**The End**\n",
        "\n",
        "We saw and extracted a lot of information from this database and this situation here is some of the important data:\n",
        "\n",
        "\n",
        "\n",
        "*   Cash-IN, Debit and Payment doesn`t have any fraud to their name. That can show the client where to focus and where to act on frauds.\n",
        "\n",
        "*   We have an extremly imbalanced data, that can be bad for our model. But with strategies like SMOTE we were able to get the dataset to a better ratio and was able to get a better performance model.\n",
        "\n",
        "\n",
        "*   We saw the problem of the current strategies implemented to detect frauds where it detected only 1:513 frauds that acctually was happening.\n",
        "\n",
        "*   We were able to eliminate columns that didn`t have nothing to do with our fraud identification, like the names of the people doing the transaction and the isFllaggedFraud columns.\n",
        "\n",
        "\n",
        "\n",
        "\n"
      ],
      "metadata": {
        "id": "k05nA2zYvaom"
      }
    }
  ]
}